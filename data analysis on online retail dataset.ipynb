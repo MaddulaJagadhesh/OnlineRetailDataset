{
 "cells": [
  {
   "cell_type": "markdown",
   "id": "2d391a40",
   "metadata": {},
   "source": [
    "### Name   :- Maddula Jagadhesh\n",
    "### Reg No:- 12018350\n",
    "### Roll No:- RK20UPA13\n",
    "### section:- K20UP"
   ]
  },
  {
   "cell_type": "markdown",
   "id": "bd844845",
   "metadata": {},
   "source": [
    "### ONLINE RETAIL DATASET ANALYSIS\n",
    "\n",
    "### Information about the Dataset\n",
    "\n",
    "1. This is a transactional data set which contains all the transactions occurring between 01/12/2010 and 09/12/2011 for a UK-based and registered non-store online retail.\n",
    "2. The company mainly sells unique all-occasion gifts. Many customers of the company are wholesalers.\n",
    "3. This dataset contains 541909 observations/records with over 8 different attributes.\n",
    "\n",
    "\n",
    "#### Features -\n",
    "\n",
    "\n",
    "InvoiceNo<br>\n",
    "StockCode<br>\n",
    "Description<br>\n",
    "Quantity<br>\n",
    "Invoice Date<br>\n",
    "UnitPrice<br>\n",
    "CustomerID<br>\n",
    "Country<br>\n",
    "\n",
    "### Questions -\n",
    "\n",
    "1. Based on your understanding of the data, what kind of business is this company in?\n",
    "2. Analyze the sales performance of this company, and provide your insights regarding the same\n",
    "3. Based on your analysis of the data, what are potential areas of improvement for the business?\n",
    "4. What are additional business problems that can be analyzed using this data. Support with explanation.\n",
    "5.  Most of the customers belongs to which Country?\n",
    "6. To find the total amount of sales for each country and see which country has the highest sales.\n",
    "7. Which month of the year have more sales and reason behind it.\n",
    "8. Which countries have poor sales and what can be the factors affecting the sales and how we can improve them.\n",
    "9.  Make a good conclusion for the given dataset from the insights we got after each analysis.\n",
    "\n",
    "\n",
    "The Answers are provided below with proper analysis."
   ]
  },
  {
   "cell_type": "markdown",
   "id": "5b44a0d9",
   "metadata": {},
   "source": [
    "### Importing required libraries"
   ]
  },
  {
   "cell_type": "code",
   "execution_count": null,
   "id": "8645f6d8",
   "metadata": {},
   "outputs": [],
   "source": [
    "import pandas as pd\n",
    "import numpy as np\n",
    "import seaborn as sns\n",
    "import matplotlib.pyplot as plt\n",
    "from matplotlib import pyplot\n",
    "import missingno as msno\n",
    "import warnings\n",
    "warnings.filterwarnings('ignore')\n",
    "sns.set(style=\"darkgrid\")\n",
    "%matplotlib inline\n",
    "import plotly\n",
    "import plotly.express as px"
   ]
  },
  {
   "cell_type": "markdown",
   "id": "8ae48d99",
   "metadata": {},
   "source": [
    "### 1.Reading dataset into Notebook"
   ]
  },
  {
   "cell_type": "code",
   "execution_count": null,
   "id": "23759818",
   "metadata": {},
   "outputs": [],
   "source": [
    "#using pandas we read the excel dataset\n",
    "df = pd.read_excel(\"Online Retail.xlsx\")"
   ]
  },
  {
   "cell_type": "markdown",
   "id": "10f395e9",
   "metadata": {},
   "source": [
    "### 2.Basic exploration and data preprocessing"
   ]
  },
  {
   "cell_type": "code",
   "execution_count": null,
   "id": "134b0886",
   "metadata": {},
   "outputs": [],
   "source": [
    "#2.Basic-exploration-and-data-preprocessing##Let's have a look how does the data looks like:\n",
    "df.head(10)"
   ]
  },
  {
   "cell_type": "markdown",
   "id": "3481c029",
   "metadata": {},
   "source": [
    "#### Number of rows and columns in data set"
   ]
  },
  {
   "cell_type": "code",
   "execution_count": null,
   "id": "c3743dba",
   "metadata": {},
   "outputs": [],
   "source": [
    "print(\"Number of rows in dataset is: \", df.shape[0])\n",
    "print(\"Number of columns in dataset is: \", df.shape[1])"
   ]
  },
  {
   "cell_type": "markdown",
   "id": "76e55852",
   "metadata": {},
   "source": [
    "#### Finding the datatypes of variables"
   ]
  },
  {
   "cell_type": "code",
   "execution_count": null,
   "id": "1c65ae7d",
   "metadata": {},
   "outputs": [],
   "source": [
    "df.dtypes"
   ]
  },
  {
   "cell_type": "markdown",
   "id": "f2176b51",
   "metadata": {},
   "source": [
    "df.info(). The info() method prints information about the DataFrame. The information contains the number of columns, column labels, column data types, memory usage, range index, and the number of cells in each column (non-null values). Note: the info() method actually prints the info."
   ]
  },
  {
   "cell_type": "code",
   "execution_count": null,
   "id": "e2a35f99",
   "metadata": {
    "scrolled": true
   },
   "outputs": [],
   "source": [
    "df.info()"
   ]
  },
  {
   "cell_type": "markdown",
   "id": "d5f5cc9b",
   "metadata": {},
   "source": [
    "Here we will get some information about datatypes of the columns and number of non zero rows in each column. From the information above we can conclude that column Description and CustomerID columns contains some missing values. This fact will be examined in further steps."
   ]
  },
  {
   "cell_type": "markdown",
   "id": "9e5ef39a",
   "metadata": {},
   "source": [
    "#### finding the number of null values present in the dataset"
   ]
  },
  {
   "cell_type": "code",
   "execution_count": null,
   "id": "d89a0ca9",
   "metadata": {},
   "outputs": [],
   "source": [
    "df.isnull().sum()"
   ]
  },
  {
   "cell_type": "markdown",
   "id": "7851594b",
   "metadata": {},
   "source": [
    "Here you can see there are 1454 null values in Description, and there are 135080 null values in coustmer ID column as well  which we can remove further steps."
   ]
  },
  {
   "cell_type": "markdown",
   "id": "3b2e26dd",
   "metadata": {},
   "source": [
    "I have used Missingno library. It is simple to use Python library that provides a series of visualisations to understand the presence and distribution of missing data within a pandas dataframe. This can be in the form of either a barplot, matrix plot, heatmap, or a dendrogram. I have represented bar graph. This shows existing values."
   ]
  },
  {
   "cell_type": "code",
   "execution_count": null,
   "id": "038dbe72",
   "metadata": {},
   "outputs": [],
   "source": [
    "msno.bar(df,figsize=(12,7))"
   ]
  },
  {
   "cell_type": "markdown",
   "id": "fdd54dae",
   "metadata": {},
   "source": [
    "- From this graph we can see that the null values in description variable is almost negligible but when we see CustomerID variable we can see there are almost 25% null values present."
   ]
  },
  {
   "cell_type": "markdown",
   "id": "5b9b0983",
   "metadata": {},
   "source": [
    "#### Finding the number of unique customerID's"
   ]
  },
  {
   "cell_type": "code",
   "execution_count": null,
   "id": "3bfae161",
   "metadata": {},
   "outputs": [],
   "source": [
    "print(\"Number of unique customers IDs:\", len(df['CustomerID'].unique().tolist()))"
   ]
  },
  {
   "cell_type": "markdown",
   "id": "86c639ec",
   "metadata": {},
   "source": [
    "For purposes of customer segmentation missing ids will be dropped."
   ]
  },
  {
   "cell_type": "markdown",
   "id": "8d4501f7",
   "metadata": {},
   "source": [
    "### Descriptive statistics of quantitative variables"
   ]
  },
  {
   "cell_type": "markdown",
   "id": "6652dcf0",
   "metadata": {},
   "source": [
    "The describe() method returns description of the data in the DataFrame. If the DataFrame contains numerical data, the description contains these information for each column: count - The number of not-empty values. mean- The average (mean) value. This includes count, mean, median (or 50th percentile) standard variation. min-max, and percentile values of columns.\n",
    "\n",
    "Descriptive statistics include those that summarize the central tendency, dispersion and shape of a dataset's distribution, excluding NaN values.\n",
    "\n",
    "Analyzes both numeric and object series, as well as DataFrame column sets of mixed data types. The output will vary depending on what is provided."
   ]
  },
  {
   "cell_type": "code",
   "execution_count": null,
   "id": "bf2330e4",
   "metadata": {
    "scrolled": false
   },
   "outputs": [],
   "source": [
    "df.describe()"
   ]
  },
  {
   "cell_type": "markdown",
   "id": "d50b736d",
   "metadata": {},
   "source": [
    "From descriptive statistics of quantitative variables (Quantity and UnitPrice), we could see that there are negative values in these variables, which are not possible values for price and quantity"
   ]
  },
  {
   "cell_type": "markdown",
   "id": "e48410c4",
   "metadata": {},
   "source": [
    "## Data Cleaning and Univariate Analysis"
   ]
  },
  {
   "cell_type": "markdown",
   "id": "8961dfa3",
   "metadata": {},
   "source": [
    "### 2.1 Analysing the InvoiceNo variable"
   ]
  },
  {
   "cell_type": "markdown",
   "id": "f1f4fe05",
   "metadata": {},
   "source": [
    "Let's have a closer look on the reason of negative values in these variables. In the description of dataset it is written that there are some canceled transactions presented in dataset. Canceled transactions is indicated by invoice number which starts with letter 'c'. Probably transactions with negative values of quantity are canceled."
   ]
  },
  {
   "cell_type": "markdown",
   "id": "964f23a4",
   "metadata": {},
   "source": [
    "Filtering transaction with invoice number started with letter 'C':"
   ]
  },
  {
   "cell_type": "code",
   "execution_count": null,
   "id": "92ccae96",
   "metadata": {},
   "outputs": [],
   "source": [
    "len(df['InvoiceNo'].unique().tolist())"
   ]
  },
  {
   "cell_type": "code",
   "execution_count": null,
   "id": "de002012",
   "metadata": {},
   "outputs": [],
   "source": [
    "cancelled = df[df['InvoiceNo'].astype(str).str.contains('C')]\n",
    "cancelled.head()"
   ]
  },
  {
   "cell_type": "markdown",
   "id": "3c03c802",
   "metadata": {},
   "source": [
    "Among cancelled transactions ther are not any transaction with positive quantity"
   ]
  },
  {
   "cell_type": "code",
   "execution_count": null,
   "id": "5e40ca93",
   "metadata": {},
   "outputs": [],
   "source": [
    "cancelled[cancelled['Quantity']>0]\n"
   ]
  },
  {
   "cell_type": "markdown",
   "id": "05042bee",
   "metadata": {},
   "source": [
    "However some transactions with negative quantity doesn't belong to cancelled:"
   ]
  },
  {
   "cell_type": "code",
   "execution_count": null,
   "id": "4dfdd372",
   "metadata": {},
   "outputs": [],
   "source": [
    "print(\"Number of cancelled transactions:\", len(cancelled))\n",
    "print(\"Total number of transaction with negative quantity:\", df[df['Quantity'] <= 0 ]['Quantity'].count())"
   ]
  },
  {
   "cell_type": "markdown",
   "id": "b1a39dd5",
   "metadata": {},
   "source": [
    "There are also transactions with zero price. Transactions with zero price doesn't bring usefull information to analysis, moreover mainly there are not any description for such transactions. This transactions could be deleted."
   ]
  },
  {
   "cell_type": "code",
   "execution_count": null,
   "id": "0afbd5dc",
   "metadata": {},
   "outputs": [],
   "source": [
    "df[df['UnitPrice'] < 0].head()"
   ]
  },
  {
   "cell_type": "markdown",
   "id": "a44997e6",
   "metadata": {},
   "source": [
    "As it was mentioned before there are some negative quantity transactions wich are not cancelled, hovewer all these transactions have 0 price."
   ]
  },
  {
   "cell_type": "code",
   "execution_count": null,
   "id": "f879deab",
   "metadata": {},
   "outputs": [],
   "source": [
    "d = df[~df['InvoiceNo'].astype(str).str.contains('C')]  \n",
    "print(\"Number of of transactions with negative quantity value among non cancelled transactions:\" ,len(d[d['Quantity']<=0]))\n",
    "print(\"Number of of transactions with zero price and negative quantity\" ,len(d[(d['Quantity']<=0) & (d['UnitPrice'] == 0)]))"
   ]
  },
  {
   "cell_type": "code",
   "execution_count": null,
   "id": "e1717cdc",
   "metadata": {},
   "outputs": [],
   "source": [
    "\n",
    "valid = d[(d['Quantity']>0) & (d['UnitPrice'] > 0)]\n",
    "cancelled = d[(d['Quantity']<=0) & (d['UnitPrice']<=0)]\n",
    "ser = pd.Series([len(valid)/(len(valid)+len(cancelled)),len(cancelled)/(len(valid)+len(cancelled))], index=['valid transactions','cancelled transactions'])"
   ]
  },
  {
   "cell_type": "code",
   "execution_count": null,
   "id": "980fde05",
   "metadata": {},
   "outputs": [],
   "source": [
    "ser.plot(kind='pie', autopct='%.2f%%',startangle=90,figsize=(7, 7)).set(ylabel='Transactions')"
   ]
  },
  {
   "cell_type": "markdown",
   "id": "673f0ba4",
   "metadata": {},
   "source": [
    "- we can see that around 0.25% of the tanscations are cancelled which are having unitprice and quantity as negative values the rest 99.75% of the transcations are valid transactions."
   ]
  },
  {
   "cell_type": "markdown",
   "id": "a6c46696",
   "metadata": {},
   "source": [
    "Percentage of transactions which will be deleted:"
   ]
  },
  {
   "cell_type": "code",
   "execution_count": null,
   "id": "34acf83f",
   "metadata": {},
   "outputs": [],
   "source": [
    "print(\"Percentage of cancelled transactions:\" , round(len(cancelled)/len(df)*100, 2),\"%\")\n",
    "print(\"Precentage of transactions with zero or negative price\" ,round(len(df[df['UnitPrice']<=0])/len(df)*100, 2),\"%\")"
   ]
  },
  {
   "cell_type": "code",
   "execution_count": null,
   "id": "a262400b",
   "metadata": {},
   "outputs": [],
   "source": [
    "data = df[(df['UnitPrice'] > 0) & (df['Quantity']>0)]"
   ]
  },
  {
   "cell_type": "markdown",
   "id": "3d587bac",
   "metadata": {},
   "source": [
    "All rows with missing descriptions are gone after deleting problematic transactions."
   ]
  },
  {
   "cell_type": "code",
   "execution_count": null,
   "id": "1f20d143",
   "metadata": {},
   "outputs": [],
   "source": [
    "data.info()"
   ]
  },
  {
   "cell_type": "markdown",
   "id": "4ac14205",
   "metadata": {},
   "source": [
    "### Check and delete duplicate transactions:"
   ]
  },
  {
   "cell_type": "code",
   "execution_count": null,
   "id": "bfeb7d5f",
   "metadata": {},
   "outputs": [],
   "source": [
    "print(\"Number of duplicated transactions:\", len(data[data.duplicated()]))"
   ]
  },
  {
   "cell_type": "code",
   "execution_count": null,
   "id": "844d2388",
   "metadata": {},
   "outputs": [],
   "source": [
    "data.drop_duplicates(inplace = True)"
   ]
  },
  {
   "cell_type": "markdown",
   "id": "497d396b",
   "metadata": {},
   "source": [
    "### 2.2 CustomerID"
   ]
  },
  {
   "cell_type": "markdown",
   "id": "80890a44",
   "metadata": {},
   "source": [
    "### Dropping the rows having missing values"
   ]
  },
  {
   "cell_type": "markdown",
   "id": "ac6e1536",
   "metadata": {},
   "source": [
    "Drop rows with missing customers IDs:"
   ]
  },
  {
   "cell_type": "markdown",
   "id": "302f21fb",
   "metadata": {},
   "source": [
    "I have used dropna() for customerID column sinces there are null values. The dropna() method removes the rows that contains NULL values. The dropna() method returns a new DataFrame object unless the inplace parameter is set to True, in that case the dropna() method does the removing in the original DataFrame instead"
   ]
  },
  {
   "cell_type": "code",
   "execution_count": null,
   "id": "17bcbc25",
   "metadata": {},
   "outputs": [],
   "source": [
    " data = data.dropna(subset=['CustomerID'])\n",
    "    "
   ]
  },
  {
   "cell_type": "code",
   "execution_count": null,
   "id": "8bc21620",
   "metadata": {},
   "outputs": [],
   "source": [
    "data.shape"
   ]
  },
  {
   "cell_type": "code",
   "execution_count": null,
   "id": "c66c4d9e",
   "metadata": {},
   "outputs": [],
   "source": [
    "top25cust =data.CustomerID.value_counts().index[:25]\n",
    "top25cust"
   ]
  },
  {
   "cell_type": "code",
   "execution_count": null,
   "id": "0454ffc0",
   "metadata": {},
   "outputs": [],
   "source": [
    "fig, ax = plt.subplots(figsize=(12, 8))\n",
    "ax.set_title('top 25 customers based on number of transactions made', fontsize=20)\n",
    "sns.countplot(y='CustomerID', data=data, order=top25cust)\n",
    "ax.set_xlabel('No.of Transactions', fontsize=15)\n",
    "ax.set_ylabel('CustomerID', fontsize=15)\n",
    "plt.show()"
   ]
  },
  {
   "cell_type": "markdown",
   "id": "90564146",
   "metadata": {},
   "source": [
    "- these are rows left after removing the rows having null values, now our customerID column is cleaned."
   ]
  },
  {
   "cell_type": "code",
   "execution_count": null,
   "id": "0c939fb3",
   "metadata": {},
   "outputs": [],
   "source": [
    "data.isnull().sum()"
   ]
  },
  {
   "cell_type": "markdown",
   "id": "e662e6d1",
   "metadata": {},
   "source": [
    "- now we can see that there are no null values present in the dataset, hence we proceed to find if any irregularities still exist in other columns"
   ]
  },
  {
   "cell_type": "markdown",
   "id": "17ee0018",
   "metadata": {},
   "source": [
    "### 2.3 Descriptions"
   ]
  },
  {
   "cell_type": "markdown",
   "id": "fc32a1ee",
   "metadata": {},
   "source": [
    "It should be taken into account that the same description could be written in different cases, let's convert all description into lowercase."
   ]
  },
  {
   "cell_type": "code",
   "execution_count": null,
   "id": "132725e8",
   "metadata": {},
   "outputs": [],
   "source": [
    "data['Description'] = data['Description'].str.lower()"
   ]
  },
  {
   "cell_type": "code",
   "execution_count": null,
   "id": "b01e8375",
   "metadata": {},
   "outputs": [],
   "source": [
    "print(\"Number of unique descriptions:\", len(data['Description'].unique().tolist()))"
   ]
  },
  {
   "cell_type": "markdown",
   "id": "7fd2a32e",
   "metadata": {},
   "source": [
    "- we can see that there are 3877 unique descriptions in this dataset which means this company sells these many variety of things."
   ]
  },
  {
   "cell_type": "code",
   "execution_count": null,
   "id": "5716106e",
   "metadata": {},
   "outputs": [],
   "source": [
    "data.head()"
   ]
  },
  {
   "cell_type": "markdown",
   "id": "ca8abdae",
   "metadata": {},
   "source": [
    "#### Removing punctuations for the description:"
   ]
  },
  {
   "cell_type": "code",
   "execution_count": null,
   "id": "e9c97329",
   "metadata": {},
   "outputs": [],
   "source": [
    "data['Description'] = data['Description'].replace(to_replace=r'[^\\w\\s]', value='', regex=True)"
   ]
  },
  {
   "cell_type": "markdown",
   "id": "f9d8b9f2",
   "metadata": {},
   "source": [
    "After this there are less unqiue descriptions:"
   ]
  },
  {
   "cell_type": "code",
   "execution_count": null,
   "id": "c3e0b5db",
   "metadata": {},
   "outputs": [],
   "source": [
    "print(\"Number of unique descriptions:\", len(data['Description'].unique().tolist()))"
   ]
  },
  {
   "cell_type": "markdown",
   "id": "788620e9",
   "metadata": {},
   "source": [
    "### 2.4 Stock Codes"
   ]
  },
  {
   "cell_type": "markdown",
   "id": "66c443f5",
   "metadata": {},
   "source": [
    "Stock Code should be numerical value, hovewer there are some transactions which contains only multiple letters/words, this transactions will also be dropped"
   ]
  },
  {
   "cell_type": "code",
   "execution_count": null,
   "id": "14865e59",
   "metadata": {},
   "outputs": [],
   "source": [
    "data = data.loc[data['StockCode'].astype(str).str[0:4].str.isdigit()]"
   ]
  },
  {
   "cell_type": "code",
   "execution_count": null,
   "id": "5aba669e",
   "metadata": {},
   "outputs": [],
   "source": [
    "data['StockCode'].unique()"
   ]
  },
  {
   "cell_type": "code",
   "execution_count": null,
   "id": "b7fff93b",
   "metadata": {},
   "outputs": [],
   "source": [
    "len(data['StockCode'].unique().tolist())"
   ]
  },
  {
   "cell_type": "markdown",
   "id": "e6d13fa0",
   "metadata": {},
   "source": [
    "there are 3659 unique stockcodes are present"
   ]
  },
  {
   "cell_type": "code",
   "execution_count": null,
   "id": "2cfc401c",
   "metadata": {},
   "outputs": [],
   "source": [
    "top15stocks =data.StockCode.value_counts().index[:15]\n",
    "top15stocks"
   ]
  },
  {
   "cell_type": "code",
   "execution_count": null,
   "id": "7649c4f9",
   "metadata": {
    "scrolled": false
   },
   "outputs": [],
   "source": [
    "fig, ax = plt.subplots(figsize=(12, 8))\n",
    "ax.set_title('top 15 stockcodes based on number of transactions made', fontsize=20)\n",
    "sns.countplot(y='StockCode', data=data, order=top15stocks,palette= 'Set1')\n",
    "ax.set_xlabel('No.of Transactions', fontsize=15)\n",
    "ax.set_ylabel('Stockcodes', fontsize=15)\n",
    "plt.show()"
   ]
  },
  {
   "cell_type": "markdown",
   "id": "218a0630",
   "metadata": {},
   "source": [
    "### 2.5 InvoiceDates"
   ]
  },
  {
   "cell_type": "markdown",
   "id": "452e9441",
   "metadata": {},
   "source": [
    "Adding features as year, month, month_year, day of week, hour:"
   ]
  },
  {
   "cell_type": "code",
   "execution_count": null,
   "id": "68a76758",
   "metadata": {},
   "outputs": [],
   "source": [
    "data['month'] = data['InvoiceDate'].dt.month\n",
    "data['year'] = data['InvoiceDate'].dt.year"
   ]
  },
  {
   "cell_type": "code",
   "execution_count": null,
   "id": "2b3d0320",
   "metadata": {},
   "outputs": [],
   "source": [
    "data['WeekDay'] = data['InvoiceDate'].dt.day_name()"
   ]
  },
  {
   "cell_type": "code",
   "execution_count": null,
   "id": "eeb0486b",
   "metadata": {},
   "outputs": [],
   "source": [
    "data['month_year'] = pd.to_datetime(data[['year', 'month']].assign(Day=1))"
   ]
  },
  {
   "cell_type": "code",
   "execution_count": null,
   "id": "1cb01047",
   "metadata": {},
   "outputs": [],
   "source": [
    "data['hour'] = data['InvoiceDate'].dt.hour"
   ]
  },
  {
   "cell_type": "code",
   "execution_count": null,
   "id": "d3c04805",
   "metadata": {},
   "outputs": [],
   "source": [
    "data.head()"
   ]
  },
  {
   "cell_type": "markdown",
   "id": "896ff006",
   "metadata": {},
   "source": [
    "- Here you can see new columns are added to the table which makes our analysis easier "
   ]
  },
  {
   "cell_type": "code",
   "execution_count": null,
   "id": "c8814a8d",
   "metadata": {},
   "outputs": [],
   "source": [
    "#which year have more orders\n",
    "plt.figure(figsize=(8,5))\n",
    "sns.countplot(data['year'],palette= 'Set1')\n",
    "plt.xticks(rotation=40,ha='right')\n",
    "plt.title(\"Year Distribution\")\n",
    "plt.xlabel('Year')\n",
    "plt.ylabel('Count');\n"
   ]
  },
  {
   "cell_type": "markdown",
   "id": "c70856aa",
   "metadata": {},
   "source": [
    "From this plot we can conclude that this dataset contains more transactions form 2011."
   ]
  },
  {
   "cell_type": "markdown",
   "id": "a595fbae",
   "metadata": {},
   "source": [
    "#### How many orders per month?"
   ]
  },
  {
   "cell_type": "markdown",
   "id": "0a316bdf",
   "metadata": {},
   "source": [
    "There are more purchasing made at the end of the year. The highest number of transactions were made during November. Probably reason could be the fact, that people tend to prepare for Christmas during November. Other than November number of byuings during the year is quite similar."
   ]
  },
  {
   "cell_type": "code",
   "execution_count": null,
   "id": "6b40e162",
   "metadata": {
    "scrolled": true
   },
   "outputs": [],
   "source": [
    "plot4 = pd.DataFrame(data.groupby(['month_year'])['InvoiceNo'].count()).reset_index()\n",
    "ax = sns.lineplot(x=\"month_year\", y=\"InvoiceNo\", data = plot4)"
   ]
  },
  {
   "cell_type": "code",
   "execution_count": null,
   "id": "85ff06ef",
   "metadata": {},
   "outputs": [],
   "source": [
    "plt.figure(figsize=(8,5))\n",
    "sns.countplot(data['month'],palette= 'Set1')\n",
    "plt.xticks(rotation=40,ha='right')\n",
    "plt.title(\"Year Distribution\")\n",
    "plt.xlabel('Year')\n",
    "plt.ylabel('Count');"
   ]
  },
  {
   "cell_type": "markdown",
   "id": "7213f42f",
   "metadata": {},
   "source": [
    "Here we can see the october,november and december have the highest sales than the remaining months."
   ]
  },
  {
   "cell_type": "markdown",
   "id": "52023c24",
   "metadata": {},
   "source": [
    "#### How many orders per day?"
   ]
  },
  {
   "cell_type": "markdown",
   "id": "f9b97634",
   "metadata": {},
   "source": [
    "Interesting fact is that there were not any transaction on Saturday during the whole period. One of the explanations colud be some filter during the data collection process. Number of buyings are not significantly differ according to the day of the week."
   ]
  },
  {
   "cell_type": "code",
   "execution_count": null,
   "id": "54a4541c",
   "metadata": {},
   "outputs": [],
   "source": [
    "plt.figure(figsize=(8,5))\n",
    "sns.countplot(data['WeekDay'],palette= 'Set1')\n",
    "plt.xticks(rotation=40,ha='right')\n",
    "plt.title(\"weekly Distribution\")\n",
    "plt.xlabel('weekday')\n",
    "plt.ylabel('Count');"
   ]
  },
  {
   "cell_type": "markdown",
   "id": "8e65a676",
   "metadata": {},
   "source": [
    "During the Wednesday and the Thursday there are high amount of sales that can sold so servers might be busy on those couple of days, are need to maintained correctly."
   ]
  },
  {
   "cell_type": "markdown",
   "id": "82f72370",
   "metadata": {},
   "source": [
    "#### How many orders per hour?"
   ]
  },
  {
   "cell_type": "markdown",
   "id": "cfbd6fa9",
   "metadata": {},
   "source": [
    "The most number of transactions is done between 12 a.m. and 2 p.m., people tend to make there purchase during the lunch time. There aren't any transactions after 8 p.m. till 6 a.m."
   ]
  },
  {
   "cell_type": "code",
   "execution_count": null,
   "id": "174e3dc6",
   "metadata": {
    "scrolled": true
   },
   "outputs": [],
   "source": [
    "plot = pd.DataFrame(data.groupby(['hour'])['InvoiceNo'].count()).reset_index()\n",
    "ax = sns.barplot(x=\"hour\", y=\"InvoiceNo\", data = plot)"
   ]
  },
  {
   "cell_type": "markdown",
   "id": "8f7b37b1",
   "metadata": {},
   "source": [
    "### 2.6 UnitPrice"
   ]
  },
  {
   "cell_type": "markdown",
   "id": "7c6c3c7f",
   "metadata": {},
   "source": [
    "From the descriptive statistics for price variable, we could see that most ot the sold products are quite cheap. Probably retail sells some small items, as office supplies, small decorations etc."
   ]
  },
  {
   "cell_type": "code",
   "execution_count": null,
   "id": "1793f0c5",
   "metadata": {
    "scrolled": true
   },
   "outputs": [],
   "source": [
    "pd.DataFrame(data['UnitPrice'].describe())"
   ]
  },
  {
   "cell_type": "code",
   "execution_count": null,
   "id": "30e1e61c",
   "metadata": {},
   "outputs": [],
   "source": [
    "data[data['UnitPrice']>50]['Description'].unique().tolist()"
   ]
  },
  {
   "cell_type": "markdown",
   "id": "590bdc83",
   "metadata": {},
   "source": [
    "Description of products, which cost more than 50 (Assumption: same currency for retails in different countries.)"
   ]
  },
  {
   "cell_type": "markdown",
   "id": "f8946fa0",
   "metadata": {},
   "source": [
    "### Price distribution of expensive goods :"
   ]
  },
  {
   "cell_type": "code",
   "execution_count": null,
   "id": "524932c7",
   "metadata": {},
   "outputs": [],
   "source": [
    "sns.distplot(data[data['UnitPrice']>50]['UnitPrice'], kde=True, rug=True);"
   ]
  },
  {
   "cell_type": "markdown",
   "id": "8d5c791d",
   "metadata": {},
   "source": [
    "### Removing Outliers"
   ]
  },
  {
   "cell_type": "markdown",
   "id": "645ed0b0",
   "metadata": {},
   "source": [
    "I have used plotly for better user experience and visualization."
   ]
  },
  {
   "cell_type": "markdown",
   "id": "7ecb3257",
   "metadata": {},
   "source": [
    "I have removed outliers by using Box Plot. Box plots are used to show distributions of numeric data values. especially when you want to compare them between multiple groups. They are built to provide high-level information at a glance, offering general information about a group of data's symmetry, skew, variance, and outliers."
   ]
  },
  {
   "cell_type": "code",
   "execution_count": null,
   "id": "ac82ec70",
   "metadata": {
    "scrolled": false
   },
   "outputs": [],
   "source": [
    "px.box(data['UnitPrice'])"
   ]
  },
  {
   "cell_type": "markdown",
   "id": "01f8113b",
   "metadata": {},
   "source": [
    "For removing Outilers, I have used IQR method. We can use the IQR method of identifying outliers to set up a \"fence\" outside of Q1 and Q3. Any values that fall outside of this fence are considered outliers. To build this fence we take 1.5 times the IQR and then subtract this value from Q1 and add this value to Q3."
   ]
  },
  {
   "cell_type": "code",
   "execution_count": null,
   "id": "86807d68",
   "metadata": {},
   "outputs": [],
   "source": [
    "Q1 = np.percentile (data[\"UnitPrice\"], 25, interpolation=\"midpoint\")\n",
    "\n",
    "Q3= np.percentile (data[ \"UnitPrice\"], 75, interpolation=\"midpoint\")\n",
    "\n",
    "IQR = Q3-Q1\n",
    "\n",
    "min1 = Q1 - 1.5* IQR\n",
    "\n",
    "max1 = Q3 + 1.5 *IQR\n",
    "\n",
    "print(min1, max1, IQR, Q1, Q3)"
   ]
  },
  {
   "cell_type": "code",
   "execution_count": null,
   "id": "72dd64a6",
   "metadata": {},
   "outputs": [],
   "source": [
    "data = data[(data[\"UnitPrice\"]> min1) & (data[\"UnitPrice\"] < max1)]\n",
    "\n",
    "data.shape"
   ]
  },
  {
   "cell_type": "code",
   "execution_count": null,
   "id": "70da56f1",
   "metadata": {},
   "outputs": [],
   "source": [
    "px.box(data['UnitPrice'])"
   ]
  },
  {
   "cell_type": "markdown",
   "id": "7432349d",
   "metadata": {},
   "source": [
    "- Here we can see that maximum of the products are having having the unitprice ranging from 0 to 6."
   ]
  },
  {
   "cell_type": "markdown",
   "id": "d9197661",
   "metadata": {},
   "source": [
    "### 2.7 Quantity"
   ]
  },
  {
   "cell_type": "code",
   "execution_count": null,
   "id": "19cdcc8e",
   "metadata": {},
   "outputs": [],
   "source": [
    "pd.DataFrame(data['Quantity'].describe())"
   ]
  },
  {
   "cell_type": "markdown",
   "id": "908245c4",
   "metadata": {},
   "source": [
    "#### Identifing the outliers"
   ]
  },
  {
   "cell_type": "markdown",
   "id": "0c324fd6",
   "metadata": {},
   "source": [
    "I have removed outliers by using Box Plot. Box plots are used to show distributions of numeric data values. especially when you want to compare them between multiple groups. They are built to provide high-level information at a glance, offering general information about a group of data's symmetry, skew, variance, and outliers."
   ]
  },
  {
   "cell_type": "code",
   "execution_count": null,
   "id": "beec5053",
   "metadata": {},
   "outputs": [],
   "source": [
    "px.box(data['Quantity'])"
   ]
  },
  {
   "cell_type": "markdown",
   "id": "b751435b",
   "metadata": {},
   "source": [
    "- we can see from above plot that there are outliers present in the Quantity column we need to handle these outliers by removing them from the dataframe."
   ]
  },
  {
   "cell_type": "markdown",
   "id": "955edd13",
   "metadata": {},
   "source": [
    "For removing Outilers, I have used IQR method. We can use the IQR method of identifying outliers to set up a \"fence\" outside of Q1 and Q3. Any values that fall outside of this fence are considered outliers. To build this fence we take 1.5 times the IQR and then subtract this value from Q1 and add this value to Q3."
   ]
  },
  {
   "cell_type": "code",
   "execution_count": null,
   "id": "6ba7f60a",
   "metadata": {},
   "outputs": [],
   "source": [
    "Q1 = np.percentile (data[\"Quantity\"], 25, interpolation=\"midpoint\")\n",
    "\n",
    "Q3= np.percentile (data[ \"Quantity\"], 75, interpolation=\"midpoint\")\n",
    "\n",
    "IQR = Q3-Q1\n",
    "\n",
    "min1 = Q1 - 1.5* IQR\n",
    "\n",
    "max1 = Q3 + 1.5 *IQR\n",
    "\n",
    "print(min, max1, IQR, Q1, Q3)"
   ]
  },
  {
   "cell_type": "code",
   "execution_count": null,
   "id": "ffd21005",
   "metadata": {},
   "outputs": [],
   "source": [
    "data = data[(data[\"Quantity\"]> min1) & (data[\"Quantity\"] < max1)]\n",
    "data.shape"
   ]
  },
  {
   "cell_type": "code",
   "execution_count": null,
   "id": "d3a4f7d4",
   "metadata": {},
   "outputs": [],
   "source": [
    "px.box(data['Quantity'])"
   ]
  },
  {
   "cell_type": "markdown",
   "id": "702d9c73",
   "metadata": {},
   "source": [
    "- Here we can see that most of the transactions have quantities in the range of 0 to 25."
   ]
  },
  {
   "cell_type": "code",
   "execution_count": null,
   "id": "bb82e93b",
   "metadata": {},
   "outputs": [],
   "source": [
    "plt.figure(figsize=(10,5))\n",
    "sns.distplot(data['Quantity'],bins=10, hist=True, kde=True)\n",
    "plt.show()"
   ]
  },
  {
   "cell_type": "markdown",
   "id": "51e79eae",
   "metadata": {},
   "source": [
    "- From the above dist plot we can see that most transactions have the quantity between 1 and 4."
   ]
  },
  {
   "cell_type": "markdown",
   "id": "a678f679",
   "metadata": {},
   "source": [
    "### 2.8 Country"
   ]
  },
  {
   "cell_type": "code",
   "execution_count": null,
   "id": "5a2e8183",
   "metadata": {},
   "outputs": [],
   "source": [
    "data.Country.unique()"
   ]
  },
  {
   "cell_type": "markdown",
   "id": "1a2b1bc5",
   "metadata": {},
   "source": [
    "### 1. Based on your understanding of the data, what kind of business is this company in?"
   ]
  },
  {
   "cell_type": "markdown",
   "id": "42a4ad97",
   "metadata": {},
   "source": [
    "\n",
    "Answer - As the name suggest this company is more into online retail across 37 countries like\n",
    "\n",
    "'United Kingdom', 'France', 'Australia', 'Netherlands', 'Germany', 'Norway', 'EIRE', 'Switzerland', 'Spain', 'Poland', 'Portugal', 'Italy', 'Belgium', 'Lithuania', 'Japan', 'Iceland', 'Channel Islands', 'Denmark', 'Cyprus', 'Sweden', 'Austria', 'Israel', 'Finland', 'Bahrain', 'Greece', 'Hong Kong', 'Singapore', 'Lebanon', 'United Arab Emirates', 'Saudi Arabia', 'Czech Republic', 'Canada', 'Unspecified', 'Brazil', 'USA', 'European Community', 'Malta', 'RSA'"
   ]
  },
  {
   "cell_type": "code",
   "execution_count": null,
   "id": "cf606c3c",
   "metadata": {},
   "outputs": [],
   "source": [
    "top10Countries = data.Country.value_counts().index[:10]\n",
    "top10Countries"
   ]
  },
  {
   "cell_type": "code",
   "execution_count": null,
   "id": "9a21f07e",
   "metadata": {
    "scrolled": false
   },
   "outputs": [],
   "source": [
    "fig, ax = plt.subplots(figsize=(12, 8))\n",
    "ax.set_title('top 10 customers based on number of transactions made', fontsize=20)\n",
    "sns.countplot(y='Country', data=data, order= top10Countries,palette=\"Set1\")\n",
    "ax.set_xlabel('No.of Transactions', fontsize=15)\n",
    "ax.set_ylabel('Country', fontsize=15)\n",
    "plt.show()"
   ]
  },
  {
   "cell_type": "markdown",
   "id": "ebb3bdf0",
   "metadata": {},
   "source": [
    "- Here in this above plot we can conclude that most of the orders are from United Kingdom followed by Germany\n",
    "- And we can also that all the top 10 countries are belong to Europe Continent."
   ]
  },
  {
   "cell_type": "markdown",
   "id": "45268953",
   "metadata": {},
   "source": [
    "### Transactions by countries"
   ]
  },
  {
   "cell_type": "markdown",
   "id": "c66eba3e",
   "metadata": {},
   "source": [
    "The most unique customers are from United Kingdom, for this reason it is better to concetrate on UK for customer segmentation"
   ]
  },
  {
   "cell_type": "code",
   "execution_count": null,
   "id": "38c01440",
   "metadata": {},
   "outputs": [],
   "source": [
    "customer_country=data[['Country','CustomerID']].drop_duplicates()\n",
    "customer_country.groupby(['Country'])['CustomerID'].aggregate('count').reset_index().sort_values('CustomerID', ascending=False)"
   ]
  },
  {
   "cell_type": "code",
   "execution_count": null,
   "id": "d2d96ee0",
   "metadata": {},
   "outputs": [],
   "source": [
    "print(\"Number of transactions where country is unspecified:\", len(data[data['Country']=='Unspecified']))"
   ]
  },
  {
   "cell_type": "markdown",
   "id": "59bd8812",
   "metadata": {},
   "source": [
    "#### Here we can see that most of the transcations are from United Kingdom, now let's look at transactions from other countries"
   ]
  },
  {
   "cell_type": "code",
   "execution_count": null,
   "id": "ed8c408b",
   "metadata": {},
   "outputs": [],
   "source": [
    "no_uk=data[data.Country != 'United Kingdom']"
   ]
  },
  {
   "cell_type": "code",
   "execution_count": null,
   "id": "c581adb8",
   "metadata": {},
   "outputs": [],
   "source": [
    "top_10=no_uk['Country'].value_counts().head(10)"
   ]
  },
  {
   "cell_type": "code",
   "execution_count": null,
   "id": "63d2ddbe",
   "metadata": {},
   "outputs": [],
   "source": [
    "fig = plt.figure(figsize=(10,15))\n",
    "sns.barplot(x =top_10.index,y=top_10.values,palette='Set1')\n",
    "#'costumers from each country excluding UK'"
   ]
  },
  {
   "cell_type": "markdown",
   "id": "04c14375",
   "metadata": {},
   "source": [
    "- From this bar plot we can see that ohter that UK most orders comes from Germany and France.\n",
    "- This is because these 2 countries are near to UK as comapred to other Europian Countries."
   ]
  },
  {
   "cell_type": "markdown",
   "id": "7a96c924",
   "metadata": {},
   "source": [
    "## Bivariate Analysis"
   ]
  },
  {
   "cell_type": "markdown",
   "id": "874f332a",
   "metadata": {},
   "source": [
    "### what is Bivariate Analysis?"
   ]
  },
  {
   "cell_type": "markdown",
   "id": "d3516481",
   "metadata": {},
   "source": [
    "Bivariate analysis is an analysis of two variables to determine the relationships between them. They are often reported in quality of life research. It is one of the simplest forms of quantitative (statistical) analysis. It involves the analysis of two variables (it is often denoted as X, Y), for the purpose of determining the empirical relationship between them."
   ]
  },
  {
   "cell_type": "markdown",
   "id": "82c8b14e",
   "metadata": {},
   "source": [
    "### Q 2). Analyze the sales performance of this company, and provide your insights regarding the same"
   ]
  },
  {
   "cell_type": "markdown",
   "id": "b971a1cf",
   "metadata": {},
   "source": [
    "### Answer :\n",
    "\n",
    "#### Performance Analysis\n",
    "Sales Performance can be seen with\n",
    "\n",
    "1) Number of sales every month<br>\n",
    "2) Number of sales every year<br>\n",
    "3) We see that in 2010 we have sales only for dec and in 2011 we have sales for all months<br>\n",
    "4) We can see that from September to Novembor we have very good sales<br>\n",
    "5) We could see that DEC 2010 we have sales of 748957 and in DEC 2011 we have sales of 433668 which is a huge drop when analyzed    further found out that We have only data upto 9th on dec 2011, so we find a sales drop in the month of dec 2011"
   ]
  },
  {
   "cell_type": "markdown",
   "id": "e3e89dcc",
   "metadata": {},
   "source": [
    "### 3. Based on your analysis of the data, what are potential areas of improvement for the business?"
   ]
  },
  {
   "cell_type": "code",
   "execution_count": null,
   "id": "51f42f6b",
   "metadata": {},
   "outputs": [],
   "source": [
    "last5=data['Country'].value_counts().tail(5)\n",
    "last5"
   ]
  },
  {
   "cell_type": "code",
   "execution_count": null,
   "id": "77a72c8e",
   "metadata": {},
   "outputs": [],
   "source": [
    "fig = plt.figure(figsize=(10,5))\n",
    "sns.barplot(x =last5.index,y=last5.values,palette='Set2')"
   ]
  },
  {
   "cell_type": "markdown",
   "id": "ae940932",
   "metadata": {},
   "source": [
    "### Answer-\n",
    "1) We see that september to december we have very high sales<br>\n",
    "2) We can concentrate on improving the sales for the other 8 months<br>\n",
    "3) We find very less number of customers in Lithania, Brazil, Czech Republic, Bahrain, Saudi Arabia<br>\n",
    "4) We have very less sales for Lebanon, Brazil, RSA, Bahrain, Saudi Arabia. We can concentrate on improving their sales<br>\n",
    "5) We could improve the business by increasing the customers and sales point of view"
   ]
  },
  {
   "cell_type": "markdown",
   "id": "3c6475e4",
   "metadata": {},
   "source": [
    "#### creating a new column \"Revenue\" for analysing the sales"
   ]
  },
  {
   "cell_type": "code",
   "execution_count": null,
   "id": "bd8c0f7b",
   "metadata": {},
   "outputs": [],
   "source": [
    "data['Revenue'] = data['UnitPrice'] * data['Quantity']"
   ]
  },
  {
   "cell_type": "code",
   "execution_count": null,
   "id": "0d9ada03",
   "metadata": {},
   "outputs": [],
   "source": [
    "data.head()"
   ]
  },
  {
   "cell_type": "markdown",
   "id": "626e2c67",
   "metadata": {},
   "source": [
    "A new column is added named \"Revenue\" as you can see from the above table"
   ]
  },
  {
   "cell_type": "code",
   "execution_count": null,
   "id": "08faa2d7",
   "metadata": {},
   "outputs": [],
   "source": [
    "top15Revenues=data[\"Revenue\"].value_counts().index[:15]\n",
    "top15Revenues"
   ]
  },
  {
   "cell_type": "code",
   "execution_count": null,
   "id": "507b1ab7",
   "metadata": {},
   "outputs": [],
   "source": [
    "fig, ax = plt.subplots(figsize=(12, 8))\n",
    "ax.set_title('top 15 Revenues based on number of transactions made', fontsize=20)\n",
    "sns.countplot(y='Revenue', data=data, order=top15Revenues,palette= 'Set2')\n",
    "ax.set_xlabel('No.of Transactions', fontsize=15)\n",
    "ax.set_ylabel('Revenue', fontsize=15)\n",
    "plt.show()"
   ]
  },
  {
   "cell_type": "code",
   "execution_count": null,
   "id": "0c8dd92e",
   "metadata": {},
   "outputs": [],
   "source": [
    "# Top15 spend Most Client\n",
    "\n",
    "Rev_Coustomer=data.groupby('CustomerID')['Revenue'].sum().sort_values(ascending=False).reset_index()[:15]\n",
    "#Visualize\n",
    "plt.figure(figsize=(12,5))\n",
    "sns.barplot(x='CustomerID', y='Revenue', data=Rev_Coustomer)\n",
    "plt.title(\"Top15 spend Most Customers \")\n",
    "plt.xlabel('CustomerID')\n",
    "plt.ylabel('Total Revenue')"
   ]
  },
  {
   "cell_type": "code",
   "execution_count": null,
   "id": "409771ef",
   "metadata": {},
   "outputs": [],
   "source": [
    "# Top20 Most Revenue Type\n",
    "# Get grouped of total Revenue and Type\n",
    "Rev_Country=data.groupby('Description')['Revenue'].sum().sort_values(ascending=False).reset_index()[:20]\n",
    "#Visualize\n",
    "plt.figure(figsize=(12,5))\n",
    "sns.barplot(x='Description', y='Revenue', data=Rev_Country)\n",
    "plt.xticks(rotation=40,ha='right')\n",
    "plt.title(\"Total Revenue of Type\")\n",
    "plt.xlabel('Description')\n",
    "plt.ylabel('Total Revenue')"
   ]
  },
  {
   "cell_type": "markdown",
   "id": "cb69dcff",
   "metadata": {},
   "source": [
    "- Here we can see that \"Party Bunting\" and \"White Hanging heart t-Light Holder\" these 2 items have been the top selling items for this company"
   ]
  },
  {
   "cell_type": "markdown",
   "id": "5ed76c42",
   "metadata": {},
   "source": [
    "### which month brings the highest Revenue?"
   ]
  },
  {
   "cell_type": "code",
   "execution_count": null,
   "id": "7e30c26b",
   "metadata": {},
   "outputs": [],
   "source": [
    "plot2 = pd.DataFrame(data.groupby(['month_year'])['Revenue'].sum()).reset_index()\n",
    "ax = sns.lineplot(x = 'month_year', y='Revenue', data = plot2)"
   ]
  },
  {
   "cell_type": "markdown",
   "id": "b33551de",
   "metadata": {},
   "source": [
    "- The highest sales are also during the November, as the number of purchasing is the highest.This can because of festivals like Christmas and New year Eve."
   ]
  },
  {
   "cell_type": "code",
   "execution_count": null,
   "id": "956fbafa",
   "metadata": {},
   "outputs": [],
   "source": [
    "# Top20 Most Revenue Type\n",
    "# Get grouped of total Revenue and Type\n",
    "Rev_Country=data.groupby('StockCode')['Revenue'].sum().sort_values(ascending=False).reset_index()[:20]\n",
    "#Visualize\n",
    "plt.figure(figsize=(12,5))\n",
    "sns.barplot(x='StockCode', y='Revenue', data=Rev_Country)\n",
    "plt.xticks(rotation=40,ha='right')\n",
    "plt.title(\"Total Revenue of Type\")\n",
    "plt.xlabel('Description')\n",
    "plt.ylabel('Total Revenue')"
   ]
  },
  {
   "cell_type": "markdown",
   "id": "6b4466f8",
   "metadata": {},
   "source": [
    "- From the above plot we can see that products StockCode \"47566\" and \"85123A\" are the top selling products."
   ]
  },
  {
   "cell_type": "code",
   "execution_count": null,
   "id": "2f6ce79b",
   "metadata": {},
   "outputs": [],
   "source": [
    "#filtering customers by the total finalprice\n",
    "Top10Customers = data.groupby(['Country'])['Revenue'].sum().sort_values(ascending=False)[0:10]\n",
    "#creating the barplot\n",
    "plt.figure(figsize=(8,5))\n",
    "sns.barplot(x=Top10Customers.values, y=Top10Customers.index,palette= 'Set1').set(xlabel='Revenue',ylabel='Country')\n",
    "plt.suptitle('Top10 Customers and Country of Origin by Sales Value', fontsize = 15)\n",
    "plt.show()"
   ]
  },
  {
   "cell_type": "markdown",
   "id": "342eba98",
   "metadata": {},
   "source": [
    "Another statistic that we could use for the future planning, is how many of our customers are repeat customers, meaning that they bought products from us more than once. In the plot below we can see that almost 70% of the customers are repeat customers. In the other plot we can also see which customers from which countries had the most repeats."
   ]
  },
  {
   "cell_type": "code",
   "execution_count": null,
   "id": "a23879bd",
   "metadata": {},
   "outputs": [],
   "source": [
    "#grouping customers by the number of their visits and separating them\n",
    "MostRepeat = data.groupby(['Country'])['InvoiceNo'].nunique().sort_values(ascending=False)\n",
    "rep = MostRepeat[MostRepeat != 1].values\n",
    "nrep = MostRepeat[MostRepeat == 1].values\n",
    "ser = pd.Series([len(rep)/(len(rep)+len(nrep)),len(nrep)/(len(rep)+len(nrep))], index=['Repeat Customers','One-time Customers'])\n",
    "#creating the subplot\n",
    "fig, [ax1, ax2] = plt.subplots(nrows=1, ncols=2, figsize= (15,5), gridspec_kw= {'width_ratios':[1,1]})\n",
    "plt.subplots_adjust(wspace=0.2)\n",
    "sns.barplot(x=MostRepeat[0:10].values, y=MostRepeat[0:10].index, ax=ax1,palette= 'rocket').set(xlabel='Number of Transactions(Repeats)',ylabel='Country')\n",
    "ser.plot(kind='pie', autopct='%.2f%%', ax=ax2).set(ylabel='')\n",
    "plt.suptitle('Top Repeat Customers', fontsize=15)\n",
    "plt.show()"
   ]
  },
  {
   "cell_type": "markdown",
   "id": "43b1a158",
   "metadata": {},
   "source": [
    "### The most sales makes United Kingdom"
   ]
  },
  {
   "cell_type": "code",
   "execution_count": null,
   "id": "4e338214",
   "metadata": {},
   "outputs": [],
   "source": [
    "plot6 = pd.DataFrame(data.groupby(['Country'])['Revenue'].sum()).reset_index()\n",
    "plot6 = plot6.sort_values(['Revenue']).reset_index(drop=True)\n",
    "fig, ax = plt.subplots()\n",
    "fig.set_size_inches(13, 11.5)\n",
    "ax=sns.barplot(x='Country', y='Revenue',data=plot6.tail(10),estimator=max,ax=ax, palette='Set1')\n",
    "ax.set_xticklabels(ax.get_xticklabels(), rotation=47, ha=\"right\")\n",
    "plt.show()"
   ]
  },
  {
   "cell_type": "code",
   "execution_count": null,
   "id": "62d8007f",
   "metadata": {},
   "outputs": [],
   "source": [
    "plt.figure(figsize=(12,7))\n",
    "sns.scatterplot (x=data['Country'], y=data['Revenue'])\n",
    "\n",
    "plt.xlabel('Country')\n",
    "\n",
    "plt.ylabel('Revenue')\n",
    "\n",
    "plt.title('revenue in each country');"
   ]
  },
  {
   "cell_type": "markdown",
   "id": "b41a77ad",
   "metadata": {},
   "source": [
    "- From this Scatter plot we can see that almost in all the countries most orders have revenue below 60."
   ]
  },
  {
   "cell_type": "markdown",
   "id": "5fd4fb74",
   "metadata": {},
   "source": [
    "### 4. What are additional business problems that can be analyzed using this data. Support with explanation."
   ]
  },
  {
   "cell_type": "code",
   "execution_count": null,
   "id": "35bc9e27",
   "metadata": {},
   "outputs": [],
   "source": [
    "# Sales Average of each product\n",
    "\n",
    "avg_sales = data.groupby(['StockCode','Description'])['Quantity','Revenue'].mean().sort_values(by = 'Quantity',ascending = False)\n",
    "avg_sales"
   ]
  },
  {
   "cell_type": "markdown",
   "id": "aa8a2093",
   "metadata": {},
   "source": [
    "### Answer -\n",
    "\n",
    "1) We can see the demand for each product<br>\n",
    "2) We can further check month wise on which product is on more demand for which month. If there is any seasonality for the         product<br>\n",
    "3) Further deeper analysis can be carried out customer wise"
   ]
  },
  {
   "cell_type": "markdown",
   "id": "c933e949",
   "metadata": {},
   "source": [
    "## Multivariate Analysis"
   ]
  },
  {
   "cell_type": "markdown",
   "id": "1a165328",
   "metadata": {},
   "source": [
    "### What is “multivariate”?"
   ]
  },
  {
   "cell_type": "markdown",
   "id": "8532ce6f",
   "metadata": {},
   "source": [
    "Multivariate data analysis is a set of statistical models that examine patterns in multidimensional data by considering, at once, several data variables. It is an expansion of bivariate data analysis, which considers only two variables in its models. As multivariate models consider more variables, they can examine more complex phenomena and find data patterns that more accurately represent the real world."
   ]
  },
  {
   "cell_type": "code",
   "execution_count": null,
   "id": "68c9acae",
   "metadata": {
    "scrolled": false
   },
   "outputs": [],
   "source": [
    "data.head(10)"
   ]
  },
  {
   "cell_type": "code",
   "execution_count": null,
   "id": "5dd15190",
   "metadata": {},
   "outputs": [],
   "source": [
    "data.corr()"
   ]
  },
  {
   "cell_type": "code",
   "execution_count": null,
   "id": "488aa8a3",
   "metadata": {},
   "outputs": [],
   "source": [
    "plt.figure(figsize=(8,8))\n",
    "\n",
    "plt.title('Correlation')\n",
    "\n",
    "numeric_correlation=data.corr()\n",
    "sns.heatmap(numeric_correlation, annot=True, square=True)"
   ]
  },
  {
   "cell_type": "code",
   "execution_count": null,
   "id": "3a4b2c96",
   "metadata": {},
   "outputs": [],
   "source": [
    "print(numeric_correlation[ 'Revenue'].sort_values (ascending=False))"
   ]
  },
  {
   "cell_type": "markdown",
   "id": "07c0bcff",
   "metadata": {},
   "source": [
    "- Here we can see that only Quantity is somewhat related to revenue,and there is not much relation from other attributes."
   ]
  },
  {
   "cell_type": "code",
   "execution_count": null,
   "id": "41345d38",
   "metadata": {},
   "outputs": [],
   "source": [
    "nonuk=data[data.Country != 'United Kingdom']\n",
    "fig = px.line(nonuk, x=\"InvoiceDate\", y=\"Revenue\", color=\"month\",title=\"Sales by Country in 2011\", hover_name=\"Country\",\n",
    "        line_shape=\"spline\", render_mode=\"svg\")\n",
    "fig.show()"
   ]
  },
  {
   "cell_type": "markdown",
   "id": "98ed9897",
   "metadata": {},
   "source": [
    "- here 90% of the data is having the country as \"UK\" ,I have ploted this graph excluding the UK so that we can analyse the sales of remaining countries \n",
    "- From this line plot we can see that the highest sales is in the month of november and december.\n",
    "- and in the month august and september the sales is low "
   ]
  },
  {
   "cell_type": "markdown",
   "id": "bdfee3b7",
   "metadata": {},
   "source": [
    "### Group by and get multiple statistics for different columns"
   ]
  },
  {
   "cell_type": "markdown",
   "id": "4b04bf14",
   "metadata": {},
   "source": [
    "Calculating receny, frequency, and the customer lifetime value"
   ]
  },
  {
   "cell_type": "code",
   "execution_count": null,
   "id": "5ff00795",
   "metadata": {
    "scrolled": true
   },
   "outputs": [],
   "source": [
    "#Getting recency frequency and customer lifetime value\n",
    "RFCLTV = data.groupby(\n",
    "   ['Country', 'CustomerID'], as_index=False\n",
    ").agg(\n",
    "    {\n",
    "         'InvoiceNo':'count',    # count number of orders for each customer in each country\n",
    "         'Revenue': \"sum\",  # get the count of networks\n",
    "         'InvoiceDate': 'last'  # get the last date per group\n",
    "    }\n",
    ")\n",
    "RFCLTV.head()"
   ]
  },
  {
   "cell_type": "markdown",
   "id": "93119900",
   "metadata": {},
   "source": [
    "### Combining date based aggregations and group by multiple column aggregations"
   ]
  },
  {
   "cell_type": "markdown",
   "id": "1cbb1b1c",
   "metadata": {},
   "source": [
    "naming grouped aggregate columns with multiple statistics, reset index to include the date column"
   ]
  },
  {
   "cell_type": "code",
   "execution_count": null,
   "id": "3daba04e",
   "metadata": {},
   "outputs": [],
   "source": [
    "agg_data = data.groupby([pd.Grouper(key='InvoiceDate', freq='MS'), 'Country'])\\\n",
    "    .agg(unique_items=('StockCode', 'nunique'),\n",
    "         total_quantity=('Quantity','sum'),\n",
    "         total_amount=('Revenue','sum')).reset_index()\n",
    "agg_data_uk = agg_data[agg_data['Country']=='United Kingdom']"
   ]
  },
  {
   "cell_type": "code",
   "execution_count": null,
   "id": "9f37b714",
   "metadata": {},
   "outputs": [],
   "source": [
    "agg_data_uk.head()"
   ]
  },
  {
   "cell_type": "code",
   "execution_count": null,
   "id": "4330a83a",
   "metadata": {},
   "outputs": [],
   "source": [
    "fig = px.box(nonuk, x=\"Country\", y=\"Revenue\")\n",
    "fig.show()"
   ]
  },
  {
   "cell_type": "markdown",
   "id": "c4a31680",
   "metadata": {},
   "source": [
    "- here in the above box plot we can see that there some outliers \n",
    "- apart form we can see that the more revenue is generated from countries that belong to Europe that others."
   ]
  },
  {
   "cell_type": "code",
   "execution_count": null,
   "id": "072b3410",
   "metadata": {},
   "outputs": [],
   "source": [
    "res = pd.pivot_table(data=nonuk,index=\"WeekDay\",columns=\"Country\",values=\"Quantity\")\n",
    "res"
   ]
  },
  {
   "cell_type": "code",
   "execution_count": null,
   "id": "cdb67bfb",
   "metadata": {},
   "outputs": [],
   "source": [
    "#Scatter plot\n",
    "plt.figure(figsize=(6,3))\n",
    "fig = px.scatter(RFCLTV, x=\"InvoiceNo\", y=\"Revenue\", title = 'Frequency vs Customer Lifetime Value')\n",
    "fig.show()"
   ]
  },
  {
   "cell_type": "markdown",
   "id": "e616c47d",
   "metadata": {},
   "source": [
    "- Here in above scatter plot we can see that mostly the invoice numbers range between 0 to 2000.\n",
    "- and only few orders crossed the 200k mark.\n",
    "- most of the sales are having the revenue in the rage of 0 to 50k. "
   ]
  },
  {
   "cell_type": "code",
   "execution_count": null,
   "id": "d00e5667",
   "metadata": {},
   "outputs": [],
   "source": [
    "fig = px.histogram(data, x=\"month_year\" , nbins = 30)\n",
    "fig.update_layout(bargap=0.2)\n",
    "fig.show()"
   ]
  },
  {
   "cell_type": "markdown",
   "id": "9efa7751",
   "metadata": {},
   "source": [
    "## 3. Analysis"
   ]
  },
  {
   "cell_type": "markdown",
   "id": "5cbc6c26",
   "metadata": {},
   "source": [
    "### 3.1 Top Customers"
   ]
  },
  {
   "cell_type": "markdown",
   "id": "5e519494",
   "metadata": {},
   "source": [
    "Calculate how often did particular customer make purchase during the year:"
   ]
  },
  {
   "cell_type": "code",
   "execution_count": null,
   "id": "a6fe9bb0",
   "metadata": {},
   "outputs": [],
   "source": [
    "data['freq'] = data.groupby('CustomerID')['CustomerID'].transform('count')"
   ]
  },
  {
   "cell_type": "markdown",
   "id": "28affc6d",
   "metadata": {},
   "source": [
    "Calculate the top 10 customers who brings the highest revenue"
   ]
  },
  {
   "cell_type": "code",
   "execution_count": null,
   "id": "3f728417",
   "metadata": {},
   "outputs": [],
   "source": [
    "customer  = pd.DataFrame(data.groupby(['CustomerID'])['Revenue'].sum().sort_values(ascending=False)).reset_index().head(10)"
   ]
  },
  {
   "cell_type": "code",
   "execution_count": null,
   "id": "d0aa555f",
   "metadata": {},
   "outputs": [],
   "source": [
    "customer['CustomerID'].tolist()"
   ]
  },
  {
   "cell_type": "code",
   "execution_count": null,
   "id": "4e47f55c",
   "metadata": {},
   "outputs": [],
   "source": [
    "top_customer = data[data['CustomerID'].isin(customer['CustomerID'].tolist())][['CustomerID', 'Country', 'Revenue', 'Quantity', 'freq']]\n",
    "top_customer.head()"
   ]
  },
  {
   "cell_type": "markdown",
   "id": "f1c5d318",
   "metadata": {},
   "source": [
    "## 4.Conclusions\n"
   ]
  },
  {
   "cell_type": "markdown",
   "id": "0e02c55a",
   "metadata": {},
   "source": [
    "-\tWe have analysed the complete data and cleaned it by dealing with the irregularites which may hamper the further processes.\n",
    "-\tWe have analsed variable by variable to understand the patterns and find if any anomalies left. \n",
    "-\tAfter analysing the variables we found that:\n",
    "-\tThe data contains the transactions from 2010 dec to 2011 dec.\n",
    "-\tThere are certain cancelled transactions we are handled.\n",
    "-\tThe company is having Saturday as Holiday.\n",
    "-\tDuring the months of November and December there is a huge sale, so better to keep more stock during these months.\n",
    "-\tThere are certain stocks which are in more demand.\n",
    "-\tMost of the customers are from UK lie around 90%, apart from them second largest country in terms of orders is “Germany”.\n",
    "-\tThere are some worst performing countries like Lebanon, Brazil, RSA, Bahrain, Saudi Arabia. We can concentrate on improving their sales.\n",
    "-\tWe could improve the business by increasing the customers and sales point of view\n",
    "-\tWe can also see that items having less unit price are sold more than items having high unitprice.\n",
    "\n",
    "#####   From Bivariate and multivariate analysis we can see that\n",
    "\n",
    "-\twe can see that \"Party Bunting\" and \"White Hanging heart t-Light Holder\" these 2 items have been the top selling items for this company’\n",
    "-\tThe highest sales are also during the November, as the number of purchasing is the highest.This can because of festivals like Christmas and New year Eve.\n",
    "-\t  we can see that products StockCode \"47566\" and \"85123A\" are the top selling products.\n",
    "- Another statistic that we could use for the future planning, is how many of our customers are repeat customers, meaning that they bought products from us more than once. In the plot we can see that almost 70% of the customers are repeat customers. In the other plot we can also see which customers from which countries had the most repeats.\n",
    " \n",
    "-\tFrom this Scatter plot we can see that almost in all the countries most orders have revenue below 60.\n",
    "-\tFrom Heatmap we can see that only Quantity is somewhat related to revenue,and there is not much relation from other attributes.\n",
    "-\tFrom this line plot we can see that the highest sales is in the month of november and december.\n",
    "-\tand in the month august and september the sales is low.\n"
   ]
  },
  {
   "cell_type": "markdown",
   "id": "e745d613",
   "metadata": {},
   "source": [
    "### 5. Recommendations"
   ]
  },
  {
   "cell_type": "markdown",
   "id": "2894271c",
   "metadata": {},
   "source": [
    "There are problems in data collections and data integration processes which should be solved, for more effective data analysis and more clear sollutions.\n",
    "\n",
    "1. Missing customer ID - this column could be made not nullable, in case for treatment occurences of missing IDs.<br>\n",
    "2. Not valid Stock Codes (contains different letters/some words) - some checking constraints for stock codes.<br>\n",
    "3. Duplicate transasctions - probably data were collected from multiple sources, which caused some duplictities.<br>\n",
    "4. To each stock code should belong only one product description, this rule is not kept in dataset. The reason could be again absence of constraints or wrong joins of the tables, if the dataset were constricted from multiple tables.<br>\n",
    "5. Solving of problems related to data quality could significantly improve the results of algorithms.\n",
    "\n",
    "Based on RFM analysis several customers segments from UK could be defined. There are quite big precantage of loyal customers or customers who tend to spned big amount of money while buying. Also ther groups of customers who are already lost and who are going to be lost in near future. Uqing this groups some targeting campaignes could be used."
   ]
  },
  {
   "cell_type": "code",
   "execution_count": null,
   "id": "a1e632ec",
   "metadata": {},
   "outputs": [],
   "source": []
  }
 ],
 "metadata": {
  "kernelspec": {
   "display_name": "Python 3 (ipykernel)",
   "language": "python",
   "name": "python3"
  },
  "language_info": {
   "codemirror_mode": {
    "name": "ipython",
    "version": 3
   },
   "file_extension": ".py",
   "mimetype": "text/x-python",
   "name": "python",
   "nbconvert_exporter": "python",
   "pygments_lexer": "ipython3",
   "version": "3.9.7"
  }
 },
 "nbformat": 4,
 "nbformat_minor": 5
}
